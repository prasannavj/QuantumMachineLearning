{
  "nbformat": 4,
  "nbformat_minor": 0,
  "metadata": {
    "colab": {
      "name": "Quantum ML Workshop - Advanced Cirq - 2.ipynb",
      "provenance": [],
      "collapsed_sections": []
    },
    "kernelspec": {
      "name": "python3",
      "display_name": "Python 3"
    },
    "language_info": {
      "name": "python"
    }
  },
  "cells": [
    {
      "cell_type": "code",
      "execution_count": 2,
      "metadata": {
        "colab": {
          "base_uri": "https://localhost:8080/"
        },
        "id": "NEAnzL_uisVx",
        "outputId": "4cb83be4-fa25-481c-b9e2-6aa75821d93d"
      },
      "outputs": [
        {
          "output_type": "stream",
          "name": "stdout",
          "text": [
            "\u001b[K     |████████████████████████████████| 1.8 MB 7.6 MB/s \n",
            "\u001b[K     |████████████████████████████████| 66 kB 5.9 MB/s \n",
            "\u001b[K     |████████████████████████████████| 641 kB 74.2 MB/s \n",
            "\u001b[K     |████████████████████████████████| 57 kB 5.1 MB/s \n",
            "\u001b[K     |████████████████████████████████| 594 kB 74.8 MB/s \n",
            "\u001b[K     |████████████████████████████████| 46 kB 4.6 MB/s \n",
            "\u001b[K     |████████████████████████████████| 53 kB 2.5 MB/s \n",
            "\u001b[K     |████████████████████████████████| 49 kB 5.8 MB/s \n",
            "\u001b[K     |████████████████████████████████| 65 kB 3.8 MB/s \n",
            "\u001b[K     |████████████████████████████████| 145 kB 61.4 MB/s \n",
            "\u001b[K     |████████████████████████████████| 97 kB 6.9 MB/s \n",
            "\u001b[K     |████████████████████████████████| 220 kB 60.5 MB/s \n",
            "\u001b[K     |████████████████████████████████| 52 kB 1.5 MB/s \n",
            "\u001b[K     |████████████████████████████████| 1.0 MB 57.1 MB/s \n",
            "\u001b[K     |████████████████████████████████| 44 kB 3.3 MB/s \n",
            "\u001b[K     |████████████████████████████████| 229 kB 57.9 MB/s \n",
            "\u001b[K     |████████████████████████████████| 243 kB 56.7 MB/s \n",
            "\u001b[K     |████████████████████████████████| 1.6 MB 45.1 MB/s \n",
            "\u001b[K     |████████████████████████████████| 109 kB 47.3 MB/s \n",
            "\u001b[K     |████████████████████████████████| 546 kB 61.5 MB/s \n",
            "\u001b[?25h  Building wheel for lark (setup.py) ... \u001b[?25l\u001b[?25hdone\n",
            "  Building wheel for retrying (setup.py) ... \u001b[?25l\u001b[?25hdone\n",
            "  Building wheel for rpcq (setup.py) ... \u001b[?25l\u001b[?25hdone\n",
            "\u001b[31mERROR: pip's dependency resolver does not currently take into account all the packages that are installed. This behaviour is the source of the following dependency conflicts.\n",
            "tensorflow 2.8.2+zzzcolab20220527125636 requires protobuf<3.20,>=3.9.2, but you have protobuf 3.20.1 which is incompatible.\n",
            "markdown 3.3.7 requires importlib-metadata>=4.4; python_version < \"3.10\", but you have importlib-metadata 3.10.1 which is incompatible.\n",
            "google-colab 1.0.0 requires six~=1.15.0, but you have six 1.16.0 which is incompatible.\n",
            "datascience 0.10.6 requires folium==0.2.1, but you have folium 0.8.3 which is incompatible.\n",
            "albumentations 0.1.12 requires imgaug<0.2.7,>=0.2.5, but you have imgaug 0.2.9 which is incompatible.\u001b[0m\n"
          ]
        }
      ],
      "source": [
        "!pip install cirq --quiet"
      ]
    },
    {
      "cell_type": "code",
      "source": [
        "# creating custom gate - Advanced Introdcution"
      ],
      "metadata": {
        "id": "zxp7o7sei_vu"
      },
      "execution_count": 3,
      "outputs": []
    },
    {
      "cell_type": "code",
      "source": [
        "import cirq\n",
        "import numpy as np"
      ],
      "metadata": {
        "id": "DCplWXMdkFWo"
      },
      "execution_count": 4,
      "outputs": []
    },
    {
      "cell_type": "code",
      "source": [
        "\"\"\"Define a custom single-qubit gate.\"\"\"\n",
        "class MyGate(cirq.Gate):\n",
        "    def __init__(self):\n",
        "        super(MyGate, self)\n",
        "\n",
        "    def _num_qubits_(self):\n",
        "        return 1\n",
        "\n",
        "    def _unitary_(self):\n",
        "        return np.array([\n",
        "            [1.0,  1.0],\n",
        "            [-1.0, 1.0]\n",
        "        ]) / np.sqrt(2)\n",
        "\n",
        "    def _circuit_diagram_info_(self, args):\n",
        "        return \"G\"\n",
        "\n",
        "my_gate = MyGate()"
      ],
      "metadata": {
        "id": "DbngnZAVkICf"
      },
      "execution_count": 5,
      "outputs": []
    },
    {
      "cell_type": "code",
      "source": [
        "\"\"\"Use the custom gate in a circuit.\"\"\"\n",
        "circ = cirq.Circuit(\n",
        "    my_gate.on(cirq.LineQubit(0))\n",
        ")\n",
        "\n",
        "print(\"Circuit with custom gates:\")\n",
        "print(circ)\n"
      ],
      "metadata": {
        "colab": {
          "base_uri": "https://localhost:8080/"
        },
        "id": "XDOwPJ6tkKtH",
        "outputId": "66c014e2-7029-4b30-b7b7-eeb6faa690c4"
      },
      "execution_count": 6,
      "outputs": [
        {
          "output_type": "stream",
          "name": "stdout",
          "text": [
            "Circuit with custom gates:\n",
            "0: ───G───\n"
          ]
        }
      ]
    },
    {
      "cell_type": "code",
      "source": [
        "\"\"\"Simulate a circuit with a custom gate.\"\"\"\n",
        "sim = cirq.Simulator()\n",
        "\n",
        "res = sim.simulate(circ)\n",
        "print(res)"
      ],
      "metadata": {
        "colab": {
          "base_uri": "https://localhost:8080/"
        },
        "id": "DtOZadIAkOuW",
        "outputId": "4a14aad5-36a1-4469-b1e0-9e4b30a57f27"
      },
      "execution_count": 7,
      "outputs": [
        {
          "output_type": "stream",
          "name": "stdout",
          "text": [
            "measurements: (no measurements)\n",
            "\n",
            "qubits: (cirq.LineQubit(0),)\n",
            "output vector: 0.707|0⟩ - 0.707|1⟩\n",
            "\n",
            "phase:\n",
            "output vector: |⟩\n"
          ]
        }
      ]
    },
    {
      "cell_type": "code",
      "source": [
        "# Example  - Import and exporting circuit details.\n",
        "\n",
        "#JSON is used for importing and exposrting the circuit details in Cirq.\n"
      ],
      "metadata": {
        "id": "Ob4hmKnmkSEH"
      },
      "execution_count": 8,
      "outputs": []
    },
    {
      "cell_type": "code",
      "source": [
        "# Two Important methods\n",
        "# to save in JSON\n",
        "#cirq.to_json - to convert to JSON\n",
        "#cirq.read_json - to read from JSON\n",
        "# to read from JSON "
      ],
      "metadata": {
        "id": "Kryh9PfukXOn"
      },
      "execution_count": 9,
      "outputs": []
    },
    {
      "cell_type": "code",
      "source": [
        "import cirq\n",
        "\n",
        "# Example circuit\n",
        "circuit = cirq.Circuit(cirq.Z(cirq.GridQubit(1,1)))\n",
        "\n",
        "# Serialize to a JSON string\n",
        "json_string = cirq.to_json(circuit)\n",
        "print('JSON string:')\n",
        "print(json_string)\n",
        "print()\n",
        "\n",
        "# Now, read back the string into a cirq object\n",
        "# cirq.read_json can also read from a file\n",
        "new_circuit = cirq.read_json(json_text=json_string)\n",
        "\n",
        "print(f'Deserialized object of type: {type(new_circuit)}:')\n",
        "print(new_circuit)"
      ],
      "metadata": {
        "colab": {
          "base_uri": "https://localhost:8080/"
        },
        "id": "jwaj5eQ3kZmf",
        "outputId": "9b8e307f-5feb-4c40-bc83-c064513d71cd"
      },
      "execution_count": 10,
      "outputs": [
        {
          "output_type": "stream",
          "name": "stdout",
          "text": [
            "JSON string:\n",
            "{\n",
            "  \"cirq_type\": \"Circuit\",\n",
            "  \"moments\": [\n",
            "    {\n",
            "      \"cirq_type\": \"Moment\",\n",
            "      \"operations\": [\n",
            "        {\n",
            "          \"cirq_type\": \"SingleQubitPauliStringGateOperation\",\n",
            "          \"pauli\": {\n",
            "            \"cirq_type\": \"_PauliZ\",\n",
            "            \"exponent\": 1.0,\n",
            "            \"global_shift\": 0.0\n",
            "          },\n",
            "          \"qubit\": {\n",
            "            \"cirq_type\": \"GridQubit\",\n",
            "            \"row\": 1,\n",
            "            \"col\": 1\n",
            "          }\n",
            "        }\n",
            "      ]\n",
            "    }\n",
            "  ]\n",
            "}\n",
            "\n",
            "Deserialized object of type: <class 'cirq.circuits.circuit.Circuit'>:\n",
            "(1, 1): ───Z───\n"
          ]
        }
      ]
    },
    {
      "cell_type": "code",
      "source": [
        "import cirq_google"
      ],
      "metadata": {
        "colab": {
          "base_uri": "https://localhost:8080/"
        },
        "id": "PKKBanIikbcn",
        "outputId": "025ac3ce-e4f0-4de4-d1bf-ae0dd55cb63e"
      },
      "execution_count": 11,
      "outputs": [
        {
          "output_type": "stream",
          "name": "stderr",
          "text": [
            "/usr/local/lib/python3.7/dist-packages/cirq/ops/gateset.py:377: UserWarning: v0.14.1 is the last release `cirq.GlobalPhaseGate` is included by default. If you were relying on this behavior, you can include a `cirq.GlobalPhaseGate` in your `*gates`. If not, then you can ignore this warning. It will be removed in v0.16\n",
            "  'v0.14.1 is the last release `cirq.GlobalPhaseGate` is included by default. If'\n"
          ]
        }
      ]
    },
    {
      "cell_type": "code",
      "source": [
        "print(cirq_google.Sycamore)"
      ],
      "metadata": {
        "colab": {
          "base_uri": "https://localhost:8080/"
        },
        "id": "HKswIfyKm0nK",
        "outputId": "58607629-03cb-40ed-9b4e-03b5c73cb341"
      },
      "execution_count": 12,
      "outputs": [
        {
          "output_type": "stream",
          "name": "stdout",
          "text": [
            "                                             (0, 5)───(0, 6)\n",
            "                                             │        │\n",
            "                                             │        │\n",
            "                                    (1, 4)───(1, 5)───(1, 6)───(1, 7)\n",
            "                                    │        │        │        │\n",
            "                                    │        │        │        │\n",
            "                           (2, 3)───(2, 4)───(2, 5)───(2, 6)───(2, 7)───(2, 8)\n",
            "                           │        │        │        │        │        │\n",
            "                           │        │        │        │        │        │\n",
            "                  (3, 2)───(3, 3)───(3, 4)───(3, 5)───(3, 6)───(3, 7)───(3, 8)───(3, 9)\n",
            "                  │        │        │        │        │        │        │        │\n",
            "                  │        │        │        │        │        │        │        │\n",
            "         (4, 1)───(4, 2)───(4, 3)───(4, 4)───(4, 5)───(4, 6)───(4, 7)───(4, 8)───(4, 9)\n",
            "         │        │        │        │        │        │        │        │\n",
            "         │        │        │        │        │        │        │        │\n",
            "(5, 0)───(5, 1)───(5, 2)───(5, 3)───(5, 4)───(5, 5)───(5, 6)───(5, 7)───(5, 8)\n",
            "         │        │        │        │        │        │        │\n",
            "         │        │        │        │        │        │        │\n",
            "         (6, 1)───(6, 2)───(6, 3)───(6, 4)───(6, 5)───(6, 6)───(6, 7)\n",
            "                  │        │        │        │        │\n",
            "                  │        │        │        │        │\n",
            "                  (7, 2)───(7, 3)───(7, 4)───(7, 5)───(7, 6)\n",
            "                           │        │        │\n",
            "                           │        │        │\n",
            "                           (8, 3)───(8, 4)───(8, 5)\n",
            "                                    │\n",
            "                                    │\n",
            "                                    (9, 4)\n"
          ]
        }
      ]
    },
    {
      "cell_type": "code",
      "source": [
        "\"\"\"Get the duration of an operation.\"\"\"\n",
        "op = cirq.X.on(cirq.GridQubit(5, 5))\n",
        "gate_durations = cirq_google.Sycamore.metadata.gate_durations\n",
        "for gate_family in gate_durations:\n",
        "    if op in gate_family:\n",
        "        print(gate_durations[gate_family])"
      ],
      "metadata": {
        "colab": {
          "base_uri": "https://localhost:8080/"
        },
        "id": "eTNjPtHxm5xc",
        "outputId": "ece5dea3-ed14-4cc1-8fa2-d1def6e02a3e"
      },
      "execution_count": 13,
      "outputs": [
        {
          "output_type": "stream",
          "name": "stdout",
          "text": [
            "25 ns\n"
          ]
        }
      ]
    },
    {
      "cell_type": "code",
      "source": [
        "\"\"\"Validate operations on a device.\"\"\"\n",
        "# Get non-adjacent qubits on the Sycamore device.\n",
        "q55 = cirq.GridQubit(5, 5)\n",
        "q56 = cirq.GridQubit(5, 6)\n",
        "q66 = cirq.GridQubit(6, 6)\n",
        "\n",
        "# Operations on adjacent qubits will be validated.\n",
        "cirq_google.Sycamore.validate_operation(cirq.SQRT_ISWAP(q55, q56))\n",
        "cirq_google.Sycamore.validate_operation(cirq.SQRT_ISWAP(q56, q66))\n",
        "\n",
        "# Operation on non-adjacent qubits will raise an error.\n",
        "ops = [cirq.SQRT_ISWAP(q55, q66)]\n",
        "circuit = cirq.Circuit(ops)\n",
        "print(circuit)\n",
        "\n",
        "try:\n",
        "    cirq_google.Sycamore.validate_circuit(circuit)\n",
        "except ValueError as ex:\n",
        "    print(f\"error, as expected: \\n{ex}\")"
      ],
      "metadata": {
        "colab": {
          "base_uri": "https://localhost:8080/"
        },
        "id": "5YTvO-qMnEiV",
        "outputId": "9509bbe0-7605-4bab-b735-b6d9cf670212"
      },
      "execution_count": 14,
      "outputs": [
        {
          "output_type": "stream",
          "name": "stdout",
          "text": [
            "(5, 5): ───iSwap───────\n",
            "           │\n",
            "(6, 6): ───iSwap^0.5───\n",
            "error, as expected: \n",
            "Qubit pair is not valid on device: (cirq.GridQubit(5, 5), cirq.GridQubit(6, 6)).\n"
          ]
        }
      ]
    },
    {
      "cell_type": "code",
      "source": [
        ""
      ],
      "metadata": {
        "id": "g8lBVddLnOBV"
      },
      "execution_count": null,
      "outputs": []
    }
  ]
}